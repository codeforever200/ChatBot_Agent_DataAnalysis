{
  "nbformat": 4,
  "nbformat_minor": 0,
  "metadata": {
    "colab": {
      "name": "ChatBotAnalysis.ipynb",
      "provenance": [],
      "collapsed_sections": []
    },
    "kernelspec": {
      "name": "python3",
      "display_name": "Python 3"
    },
    "language_info": {
      "name": "python"
    }
  },
  "cells": [
    {
      "cell_type": "code",
      "metadata": {
        "id": "B25ZRmcPrMtb"
      },
      "source": [
        "# importing libraries\n",
        "\n",
        "import pandas as pd\n",
        "import datetime \n",
        "import numpy as np\n",
        "from datetime import timedelta\n",
        "import time"
      ],
      "execution_count": null,
      "outputs": []
    },
    {
      "cell_type": "code",
      "metadata": {
        "id": "SXWq8svhuI1x"
      },
      "source": [
        "# reading data. File name has been renamed as Data_dump.\n",
        "data_file = 'Data_dump.csv'\n",
        "user_data = pd.read_csv(data_file)\n",
        "df = pd.DataFrame(user_data)"
      ],
      "execution_count": null,
      "outputs": []
    },
    {
      "cell_type": "code",
      "metadata": {
        "id": "DhOdjxpMuqFY"
      },
      "source": [
        "df.head()"
      ],
      "execution_count": null,
      "outputs": []
    },
    {
      "cell_type": "markdown",
      "metadata": {
        "id": "Igi95JxW0cCZ"
      },
      "source": [
        "Spilting chartStartTime into date and time in order to be able to divide data by date.\n"
      ]
    },
    {
      "cell_type": "code",
      "metadata": {
        "id": "ksghj2ZlvmsQ"
      },
      "source": [
        "df[['date','start_time']] = df['ChatStartTime'].str.split(' ',n=1, expand=True)"
      ],
      "execution_count": null,
      "outputs": []
    },
    {
      "cell_type": "markdown",
      "metadata": {
        "id": "bCMRS-Dtxh8p"
      },
      "source": [
        "divide data as per week\n"
      ]
    },
    {
      "cell_type": "code",
      "metadata": {
        "id": "Vo1lr5Lt0X1z"
      },
      "source": [
        "# Feb_week1\n",
        "feb_week1 = pd.DataFrame(pd.date_range('2021-02-01', '2021-02-07'), columns=['date'])\n",
        "feb_week1['date'] = feb_week1['date'].dt.strftime('%d-%m-%Y')\n",
        "feb_week1_df = pd.merge(df, feb_week1)"
      ],
      "execution_count": null,
      "outputs": []
    },
    {
      "cell_type": "code",
      "metadata": {
        "id": "kDXk0h5DN_Gd"
      },
      "source": [
        "# Feb_week2\n",
        "feb_week2 = pd.DataFrame(pd.date_range('2021-02-08', '2021-02-14'), columns=['date'])\n",
        "feb_week2['date'] = feb_week2['date'].dt.strftime('%d-%m-%Y')\n",
        "feb_week2_df = pd.merge(df, feb_week2)"
      ],
      "execution_count": null,
      "outputs": []
    },
    {
      "cell_type": "code",
      "metadata": {
        "id": "uL6fWtIKOj4h"
      },
      "source": [
        "# Feb_week3\n",
        "feb_week3 = pd.DataFrame(pd.date_range('2021-02-15', '2021-02-21'), columns=['date'])\n",
        "feb_week3['date'] = feb_week3['date'].dt.strftime('%d-%m-%Y')\n",
        "feb_week3_df = pd.merge(df, feb_week3)"
      ],
      "execution_count": null,
      "outputs": []
    },
    {
      "cell_type": "code",
      "metadata": {
        "id": "kTI9-_6FOkF5"
      },
      "source": [
        "# Feb_week4\n",
        "feb_week4 = pd.DataFrame(pd.date_range('2021-02-22', '2021-02-28'), columns=['date'])\n",
        "feb_week4['date'] = feb_week4['date'].dt.strftime('%d-%m-%Y')\n",
        "feb_week4_df = pd.merge(df, feb_week4)"
      ],
      "execution_count": null,
      "outputs": []
    },
    {
      "cell_type": "code",
      "metadata": {
        "id": "0l8Qkx2zYHYt"
      },
      "source": [
        "#feb_week1_df.to_csv(r'test.csv', index = False)"
      ],
      "execution_count": null,
      "outputs": []
    },
    {
      "cell_type": "markdown",
      "metadata": {
        "id": "7ABARN5pjlFI"
      },
      "source": [
        "# Chat Metrics "
      ]
    },
    {
      "cell_type": "markdown",
      "metadata": {
        "id": "2-blZOT6FWMV"
      },
      "source": [
        "I have written the codes in the form of reusable functions for easy processing"
      ]
    },
    {
      "cell_type": "code",
      "metadata": {
        "id": "5PsSRQeCZb-V",
        "colab": {
          "base_uri": "https://localhost:8080/"
        },
        "outputId": "13938b1f-c7b6-4bb9-cea7-204301c3e5af"
      },
      "source": [
        "# 1. incoming chats\n",
        "\n",
        "def incoming_chats(week_df):\n",
        "  count_RoomCode = pd.DataFrame(week_df.RoomCode.value_counts())\n",
        "  Incoming_chats = count_RoomCode['RoomCode'].sum()\n",
        "  return(Incoming_chats)\n",
        "\n",
        "incoming_chats(feb_week1_df)\n",
        "#incoming_chats(feb_week2_df)\n",
        "#incoming_chats(feb_week3_df)\n",
        "#incoming_chats(feb_week4_df)"
      ],
      "execution_count": null,
      "outputs": [
        {
          "output_type": "execute_result",
          "data": {
            "text/plain": [
              "2763"
            ]
          },
          "metadata": {},
          "execution_count": 10
        }
      ]
    },
    {
      "cell_type": "code",
      "metadata": {
        "colab": {
          "base_uri": "https://localhost:8080/"
        },
        "id": "1hGyVeclPiTB",
        "outputId": "5e340e3e-eff8-4e45-f6c5-325d7d2e7118"
      },
      "source": [
        "# 2. unique users\n",
        "\n",
        "def uniq_users(week_df):\n",
        "  unique_users = week_df.UserId.nunique(dropna = True)\n",
        "  return(unique_users)\n",
        "\n",
        "uniq_users(feb_week1_df)\n",
        "#uniq_users(feb_week2_df)\n",
        "#uniq_users(feb_week3_df)\n",
        "#uniq_users(feb_week4_df)"
      ],
      "execution_count": null,
      "outputs": [
        {
          "output_type": "execute_result",
          "data": {
            "text/plain": [
              "2642"
            ]
          },
          "metadata": {},
          "execution_count": 11
        }
      ]
    },
    {
      "cell_type": "code",
      "metadata": {
        "colab": {
          "base_uri": "https://localhost:8080/"
        },
        "id": "ZHgt2H5kSvzQ",
        "outputId": "9c9286c1-56bd-484f-beb3-0562e09cf953"
      },
      "source": [
        "# 3. closedby system\n",
        "\n",
        "def by_bot(week_df):\n",
        "  ClosedBy_bot = len(week_df[week_df['ClosedBy'] == 'System'])\n",
        "  return(ClosedBy_bot)\n",
        "\n",
        "by_bot(feb_week1_df)\n",
        "#by_bot(feb_week2_df)\n",
        "#by_bot(feb_week3_df)\n",
        "#by_bot(feb_week4_df)"
      ],
      "execution_count": null,
      "outputs": [
        {
          "output_type": "execute_result",
          "data": {
            "text/plain": [
              "1788"
            ]
          },
          "metadata": {},
          "execution_count": 12
        }
      ]
    },
    {
      "cell_type": "code",
      "metadata": {
        "colab": {
          "base_uri": "https://localhost:8080/"
        },
        "id": "fk01Fx1ATQBj",
        "outputId": "7085800a-c4c2-49ca-c7de-0bee8af647ef"
      },
      "source": [
        "# 4. Bot defelction %\n",
        "\n",
        "def bot_def(week_df):\n",
        "  Bot_def = by_bot(week_df)/incoming_chats(week_df)\n",
        "  print(Bot_def)\n",
        "\n",
        "bot_def(feb_week1_df)\n",
        "bot_def(feb_week2_df)\n",
        "bot_def(feb_week3_df)\n",
        "bot_def(feb_week4_df)"
      ],
      "execution_count": null,
      "outputs": [
        {
          "output_type": "stream",
          "name": "stdout",
          "text": [
            "0.6471226927252985\n",
            "0.6366412213740458\n",
            "0.5966754155730534\n",
            "0.6208673250322027\n"
          ]
        }
      ]
    },
    {
      "cell_type": "code",
      "metadata": {
        "colab": {
          "base_uri": "https://localhost:8080/"
        },
        "id": "FYEXtHqPVIQD",
        "outputId": "387e1d80-4364-465b-b6e0-64a95d88fee2"
      },
      "source": [
        "# 5. closed by agents\n",
        "\n",
        "def by_ag(week_df):\n",
        "  ClosedBy_ag = len(week_df[week_df['ClosedBy'] != 'System'])\n",
        "  return(ClosedBy_ag)\n",
        "\n",
        "by_ag(feb_week1_df)\n",
        "#by_ag(feb_week2_df)\n",
        "#by_ag(feb_week3_df)\n",
        "#by_ag(feb_week4_df)"
      ],
      "execution_count": null,
      "outputs": [
        {
          "output_type": "execute_result",
          "data": {
            "text/plain": [
              "975"
            ]
          },
          "metadata": {},
          "execution_count": 14
        }
      ]
    },
    {
      "cell_type": "markdown",
      "metadata": {
        "id": "AP36NiVxTZqN"
      },
      "source": [
        "# Agent Metrics"
      ]
    },
    {
      "cell_type": "markdown",
      "metadata": {
        "id": "w4LI-QIo3Lud"
      },
      "source": [
        "Here in the first two functions parameters to be passed are the week dataframes."
      ]
    },
    {
      "cell_type": "code",
      "metadata": {
        "id": "O8NQXvVzcQMh"
      },
      "source": [
        "# chats closed by agents each week\n",
        "\n",
        "def ag_df(week_df):\n",
        "  Ag_week_df = week_df[week_df['ClosedBy'] != 'System']\n",
        "  return(Ag_week_df)\n",
        "\n",
        "ag_df(feb_week1_df)"
      ],
      "execution_count": null,
      "outputs": []
    },
    {
      "cell_type": "code",
      "metadata": {
        "id": "gbAJJkuzJiao",
        "colab": {
          "base_uri": "https://localhost:8080/",
          "height": 423
        },
        "outputId": "807f85e9-b08b-45a8-996b-12a2866e5285"
      },
      "source": [
        "# counting each agent and displaying each agent names for week1\n",
        "\n",
        "\n",
        "def con_ag(week_df):\n",
        "  count_ag = pd.DataFrame(ag_df(week_df).ClosedBy.value_counts())\n",
        "  return(count_ag)\n",
        "\n",
        "con_ag(feb_week1_df) \n",
        "\n",
        "#count_ag = pd.DataFrame(ag_df(feb_week4_df).ClosedBy.value_counts())\n",
        "#count_ag\n"
      ],
      "execution_count": null,
      "outputs": [
        {
          "output_type": "execute_result",
          "data": {
            "text/html": [
              "<div>\n",
              "<style scoped>\n",
              "    .dataframe tbody tr th:only-of-type {\n",
              "        vertical-align: middle;\n",
              "    }\n",
              "\n",
              "    .dataframe tbody tr th {\n",
              "        vertical-align: top;\n",
              "    }\n",
              "\n",
              "    .dataframe thead th {\n",
              "        text-align: right;\n",
              "    }\n",
              "</style>\n",
              "<table border=\"1\" class=\"dataframe\">\n",
              "  <thead>\n",
              "    <tr style=\"text-align: right;\">\n",
              "      <th></th>\n",
              "      <th>ClosedBy</th>\n",
              "    </tr>\n",
              "  </thead>\n",
              "  <tbody>\n",
              "    <tr>\n",
              "      <th>Adaa</th>\n",
              "      <td>35</td>\n",
              "    </tr>\n",
              "    <tr>\n",
              "      <th>Elina</th>\n",
              "      <td>29</td>\n",
              "    </tr>\n",
              "    <tr>\n",
              "      <th>Isha</th>\n",
              "      <td>28</td>\n",
              "    </tr>\n",
              "    <tr>\n",
              "      <th>Norah</th>\n",
              "      <td>27</td>\n",
              "    </tr>\n",
              "    <tr>\n",
              "      <th>Alia</th>\n",
              "      <td>26</td>\n",
              "    </tr>\n",
              "    <tr>\n",
              "      <th>...</th>\n",
              "      <td>...</td>\n",
              "    </tr>\n",
              "    <tr>\n",
              "      <th>Daanish</th>\n",
              "      <td>3</td>\n",
              "    </tr>\n",
              "    <tr>\n",
              "      <th>Nayab</th>\n",
              "      <td>2</td>\n",
              "    </tr>\n",
              "    <tr>\n",
              "      <th>Ryla</th>\n",
              "      <td>1</td>\n",
              "    </tr>\n",
              "    <tr>\n",
              "      <th>Bot</th>\n",
              "      <td>1</td>\n",
              "    </tr>\n",
              "    <tr>\n",
              "      <th>Krishna</th>\n",
              "      <td>1</td>\n",
              "    </tr>\n",
              "  </tbody>\n",
              "</table>\n",
              "<p>88 rows × 1 columns</p>\n",
              "</div>"
            ],
            "text/plain": [
              "         ClosedBy\n",
              "Adaa           35\n",
              "Elina          29\n",
              "Isha           28\n",
              "Norah          27\n",
              "Alia           26\n",
              "...           ...\n",
              "Daanish         3\n",
              "Nayab           2\n",
              "Ryla            1\n",
              "Bot             1\n",
              "Krishna         1\n",
              "\n",
              "[88 rows x 1 columns]"
            ]
          },
          "metadata": {},
          "execution_count": 16
        }
      ]
    },
    {
      "cell_type": "code",
      "metadata": {
        "id": "J_SCg9sFcfM-"
      },
      "source": [
        "#count_ag.to_csv(r'count_ag4.csv', index = True)"
      ],
      "execution_count": null,
      "outputs": []
    },
    {
      "cell_type": "markdown",
      "metadata": {
        "id": "M6FGEIMhGe1T"
      },
      "source": [
        "Once the agent names are figured out by the above dataframe recieved, the functions below accept agent name as parameters for further processing per agent."
      ]
    },
    {
      "cell_type": "code",
      "metadata": {
        "id": "_uaHjlARwE0o",
        "colab": {
          "base_uri": "https://localhost:8080/",
          "height": 1000
        },
        "outputId": "8b1e205c-23d4-451d-9dd0-2aa9404e21f8"
      },
      "source": [
        "# Dataframe per agent for feb_week1\n",
        "\n",
        "def agent(ag_name):\n",
        "  ag_week1 = feb_week1_df[feb_week1_df['ClosedBy'] == ag_name]\n",
        "  return(ag_week1)\n",
        "\n",
        "agent('Diya')\n"
      ],
      "execution_count": null,
      "outputs": [
        {
          "output_type": "execute_result",
          "data": {
            "text/html": [
              "<div>\n",
              "<style scoped>\n",
              "    .dataframe tbody tr th:only-of-type {\n",
              "        vertical-align: middle;\n",
              "    }\n",
              "\n",
              "    .dataframe tbody tr th {\n",
              "        vertical-align: top;\n",
              "    }\n",
              "\n",
              "    .dataframe thead th {\n",
              "        text-align: right;\n",
              "    }\n",
              "</style>\n",
              "<table border=\"1\" class=\"dataframe\">\n",
              "  <thead>\n",
              "    <tr style=\"text-align: right;\">\n",
              "      <th></th>\n",
              "      <th>RoomCode</th>\n",
              "      <th>UserId</th>\n",
              "      <th>ClosedBy</th>\n",
              "      <th>ClosingComment</th>\n",
              "      <th>ChatStartTime</th>\n",
              "      <th>ChatEndTime</th>\n",
              "      <th>AgentAssignmentTimestamp</th>\n",
              "      <th>BotFirstResponseTime</th>\n",
              "      <th>AgentFirstResponseTime</th>\n",
              "      <th>CsatScore</th>\n",
              "      <th>date</th>\n",
              "      <th>start_time</th>\n",
              "    </tr>\n",
              "  </thead>\n",
              "  <tbody>\n",
              "    <tr>\n",
              "      <th>762</th>\n",
              "      <td>8544423</td>\n",
              "      <td>e8f360a1-92b2-424d-ab98-cfbcaeb9cbe4</td>\n",
              "      <td>Diya</td>\n",
              "      <td>Completed</td>\n",
              "      <td>06-02-2021 13:56:45</td>\n",
              "      <td>06-02-2021 14:15:47</td>\n",
              "      <td>06-02-2021 13:59:23</td>\n",
              "      <td>0:00:00</td>\n",
              "      <td>0:00:08</td>\n",
              "      <td>0</td>\n",
              "      <td>06-02-2021</td>\n",
              "      <td>13:56:45</td>\n",
              "    </tr>\n",
              "    <tr>\n",
              "      <th>1164</th>\n",
              "      <td>8524583</td>\n",
              "      <td>36b7054c-cedc-4235-8d47-cb3193538e57</td>\n",
              "      <td>Diya</td>\n",
              "      <td>Completed</td>\n",
              "      <td>03-02-2021 18:30:29</td>\n",
              "      <td>03-02-2021 18:49:14</td>\n",
              "      <td>03-02-2021 18:31:33</td>\n",
              "      <td>0:00:00</td>\n",
              "      <td>0:00:06</td>\n",
              "      <td>5</td>\n",
              "      <td>03-02-2021</td>\n",
              "      <td>18:30:29</td>\n",
              "    </tr>\n",
              "    <tr>\n",
              "      <th>1247</th>\n",
              "      <td>8521062</td>\n",
              "      <td>3764ed74-621a-4fac-a45e-f4ec703f526b</td>\n",
              "      <td>Diya</td>\n",
              "      <td>Completed</td>\n",
              "      <td>03-02-2021 11:58:29</td>\n",
              "      <td>03-02-2021 12:03:32</td>\n",
              "      <td>03-02-2021 11:59:11</td>\n",
              "      <td>0:00:00</td>\n",
              "      <td>0:00:06</td>\n",
              "      <td>4</td>\n",
              "      <td>03-02-2021</td>\n",
              "      <td>11:58:29</td>\n",
              "    </tr>\n",
              "    <tr>\n",
              "      <th>1260</th>\n",
              "      <td>8521910</td>\n",
              "      <td>733c0188-30a4-4e62-a5f8-bed500bd8b4f</td>\n",
              "      <td>Diya</td>\n",
              "      <td>Completed</td>\n",
              "      <td>03-02-2021 13:25:53</td>\n",
              "      <td>03-02-2021 13:30:38</td>\n",
              "      <td>03-02-2021 13:26:39</td>\n",
              "      <td>0:00:00</td>\n",
              "      <td>0:00:10</td>\n",
              "      <td>0</td>\n",
              "      <td>03-02-2021</td>\n",
              "      <td>13:25:53</td>\n",
              "    </tr>\n",
              "    <tr>\n",
              "      <th>1306</th>\n",
              "      <td>8520294</td>\n",
              "      <td>9cd4b875-de8a-430b-9d7b-ffa43f2b7171</td>\n",
              "      <td>Diya</td>\n",
              "      <td>Completed</td>\n",
              "      <td>03-02-2021 10:37:29</td>\n",
              "      <td>03-02-2021 10:45:25</td>\n",
              "      <td>03-02-2021 10:38:05</td>\n",
              "      <td>0:00:00</td>\n",
              "      <td>0:00:12</td>\n",
              "      <td>0</td>\n",
              "      <td>03-02-2021</td>\n",
              "      <td>10:37:29</td>\n",
              "    </tr>\n",
              "    <tr>\n",
              "      <th>1402</th>\n",
              "      <td>8522025</td>\n",
              "      <td>6aa86238-e05c-45a3-8469-c98fba590658</td>\n",
              "      <td>Diya</td>\n",
              "      <td>Completed</td>\n",
              "      <td>03-02-2021 13:37:33</td>\n",
              "      <td>03-02-2021 13:47:26</td>\n",
              "      <td>03-02-2021 13:38:10</td>\n",
              "      <td>0:00:00</td>\n",
              "      <td>0:00:11</td>\n",
              "      <td>0</td>\n",
              "      <td>03-02-2021</td>\n",
              "      <td>13:37:33</td>\n",
              "    </tr>\n",
              "    <tr>\n",
              "      <th>1470</th>\n",
              "      <td>8520355</td>\n",
              "      <td>64e6cdef-8462-4284-9147-f18b27ecc317</td>\n",
              "      <td>Diya</td>\n",
              "      <td>Completed</td>\n",
              "      <td>03-02-2021 10:43:09</td>\n",
              "      <td>03-02-2021 10:57:04</td>\n",
              "      <td>03-02-2021 10:43:49</td>\n",
              "      <td>0:00:00</td>\n",
              "      <td>0:00:07</td>\n",
              "      <td>0</td>\n",
              "      <td>03-02-2021</td>\n",
              "      <td>10:43:09</td>\n",
              "    </tr>\n",
              "    <tr>\n",
              "      <th>1473</th>\n",
              "      <td>8520882</td>\n",
              "      <td>787badf4-bd9d-4fa7-a8b0-2a520d9278d0</td>\n",
              "      <td>Diya</td>\n",
              "      <td>Unresponsive Customer</td>\n",
              "      <td>03-02-2021 11:41:10</td>\n",
              "      <td>03-02-2021 11:48:00</td>\n",
              "      <td>03-02-2021 11:41:38</td>\n",
              "      <td>0:00:00</td>\n",
              "      <td>0:00:04</td>\n",
              "      <td>3</td>\n",
              "      <td>03-02-2021</td>\n",
              "      <td>11:41:10</td>\n",
              "    </tr>\n",
              "    <tr>\n",
              "      <th>1480</th>\n",
              "      <td>8524275</td>\n",
              "      <td>7d306104-bced-4e99-95c5-e80f940ae794</td>\n",
              "      <td>Diya</td>\n",
              "      <td>Completed</td>\n",
              "      <td>03-02-2021 17:49:02</td>\n",
              "      <td>03-02-2021 18:01:40</td>\n",
              "      <td>03-02-2021 17:49:55</td>\n",
              "      <td>0:00:00</td>\n",
              "      <td>0:00:08</td>\n",
              "      <td>5</td>\n",
              "      <td>03-02-2021</td>\n",
              "      <td>17:49:02</td>\n",
              "    </tr>\n",
              "    <tr>\n",
              "      <th>1553</th>\n",
              "      <td>8507537</td>\n",
              "      <td>ed036802-8048-44c1-b845-e9ece77b9742</td>\n",
              "      <td>Diya</td>\n",
              "      <td>Completed</td>\n",
              "      <td>01-02-2021 14:10:40</td>\n",
              "      <td>01-02-2021 14:28:33</td>\n",
              "      <td>01-02-2021 14:13:50</td>\n",
              "      <td>0:00:01</td>\n",
              "      <td>0:00:11</td>\n",
              "      <td>0</td>\n",
              "      <td>01-02-2021</td>\n",
              "      <td>14:10:40</td>\n",
              "    </tr>\n",
              "    <tr>\n",
              "      <th>1616</th>\n",
              "      <td>8506224</td>\n",
              "      <td>ee1788c6-4251-4564-9520-a20af5d7d96c</td>\n",
              "      <td>Diya</td>\n",
              "      <td>Completed</td>\n",
              "      <td>01-02-2021 11:54:14</td>\n",
              "      <td>01-02-2021 12:12:27</td>\n",
              "      <td>01-02-2021 11:55:22</td>\n",
              "      <td>0:00:06</td>\n",
              "      <td>0:00:09</td>\n",
              "      <td>4</td>\n",
              "      <td>01-02-2021</td>\n",
              "      <td>11:54:14</td>\n",
              "    </tr>\n",
              "    <tr>\n",
              "      <th>1642</th>\n",
              "      <td>8507820</td>\n",
              "      <td>25e90bd7-57ca-4e7c-aa1d-5ae4c3dd2c4d</td>\n",
              "      <td>Diya</td>\n",
              "      <td>Unresponsive Customer</td>\n",
              "      <td>01-02-2021 14:44:11</td>\n",
              "      <td>01-02-2021 15:08:58</td>\n",
              "      <td>01-02-2021 14:46:25</td>\n",
              "      <td>0:00:00</td>\n",
              "      <td>0:00:05</td>\n",
              "      <td>5</td>\n",
              "      <td>01-02-2021</td>\n",
              "      <td>14:44:11</td>\n",
              "    </tr>\n",
              "    <tr>\n",
              "      <th>1853</th>\n",
              "      <td>8508248</td>\n",
              "      <td>ee7b7921-da46-4a56-b69e-e2b97301adf0</td>\n",
              "      <td>Diya</td>\n",
              "      <td>Completed</td>\n",
              "      <td>01-02-2021 15:28:58</td>\n",
              "      <td>01-02-2021 15:44:18</td>\n",
              "      <td>01-02-2021 15:29:46</td>\n",
              "      <td>0:00:00</td>\n",
              "      <td>0:00:06</td>\n",
              "      <td>0</td>\n",
              "      <td>01-02-2021</td>\n",
              "      <td>15:28:58</td>\n",
              "    </tr>\n",
              "    <tr>\n",
              "      <th>1999</th>\n",
              "      <td>8515708</td>\n",
              "      <td>dd1cc289-cc20-4fee-9250-31b48aefc1c3</td>\n",
              "      <td>Diya</td>\n",
              "      <td>Completed</td>\n",
              "      <td>02-02-2021 15:30:06</td>\n",
              "      <td>02-02-2021 15:44:05</td>\n",
              "      <td>02-02-2021 15:31:41</td>\n",
              "      <td>0:00:00</td>\n",
              "      <td>0:00:11</td>\n",
              "      <td>0</td>\n",
              "      <td>02-02-2021</td>\n",
              "      <td>15:30:06</td>\n",
              "    </tr>\n",
              "    <tr>\n",
              "      <th>2035</th>\n",
              "      <td>8513414</td>\n",
              "      <td>d6d6d83b-3950-47b3-82ad-0bf164a5ff8d</td>\n",
              "      <td>Diya</td>\n",
              "      <td>Unresponsive Customer</td>\n",
              "      <td>02-02-2021 11:10:06</td>\n",
              "      <td>02-02-2021 11:37:47</td>\n",
              "      <td>02-02-2021 11:29:56</td>\n",
              "      <td>0:00:00</td>\n",
              "      <td>0:00:09</td>\n",
              "      <td>4</td>\n",
              "      <td>02-02-2021</td>\n",
              "      <td>11:10:06</td>\n",
              "    </tr>\n",
              "    <tr>\n",
              "      <th>2262</th>\n",
              "      <td>8514777</td>\n",
              "      <td>aa993239-e5d4-4a21-9d15-1570707ca893</td>\n",
              "      <td>Diya</td>\n",
              "      <td>Unresponsive Customer</td>\n",
              "      <td>02-02-2021 13:38:47</td>\n",
              "      <td>02-02-2021 13:56:58</td>\n",
              "      <td>02-02-2021 13:39:24</td>\n",
              "      <td>0:00:00</td>\n",
              "      <td>0:00:08</td>\n",
              "      <td>4</td>\n",
              "      <td>02-02-2021</td>\n",
              "      <td>13:38:47</td>\n",
              "    </tr>\n",
              "    <tr>\n",
              "      <th>2366</th>\n",
              "      <td>8537830</td>\n",
              "      <td>91f26664-6659-429e-ada1-1f25f18da7d4</td>\n",
              "      <td>Diya</td>\n",
              "      <td>Unresponsive Customer</td>\n",
              "      <td>05-02-2021 14:38:01</td>\n",
              "      <td>05-02-2021 14:46:14</td>\n",
              "      <td>05-02-2021 14:38:48</td>\n",
              "      <td>0:00:00</td>\n",
              "      <td>0:00:07</td>\n",
              "      <td>0</td>\n",
              "      <td>05-02-2021</td>\n",
              "      <td>14:38:01</td>\n",
              "    </tr>\n",
              "    <tr>\n",
              "      <th>2395</th>\n",
              "      <td>8535661</td>\n",
              "      <td>d62135d5-2dd0-40de-90a1-2f304cbb24a1</td>\n",
              "      <td>Diya</td>\n",
              "      <td>Completed</td>\n",
              "      <td>05-02-2021 10:21:25</td>\n",
              "      <td>05-02-2021 10:29:53</td>\n",
              "      <td>05-02-2021 10:21:56</td>\n",
              "      <td>0:00:00</td>\n",
              "      <td>0:00:11</td>\n",
              "      <td>5</td>\n",
              "      <td>05-02-2021</td>\n",
              "      <td>10:21:25</td>\n",
              "    </tr>\n",
              "    <tr>\n",
              "      <th>2407</th>\n",
              "      <td>8537774</td>\n",
              "      <td>229870df-fd2f-4b3d-a5e4-c943281d3ce6</td>\n",
              "      <td>Diya</td>\n",
              "      <td>Completed</td>\n",
              "      <td>05-02-2021 14:30:42</td>\n",
              "      <td>05-02-2021 14:42:03</td>\n",
              "      <td>05-02-2021 14:31:41</td>\n",
              "      <td>0:00:00</td>\n",
              "      <td>0:00:09</td>\n",
              "      <td>0</td>\n",
              "      <td>05-02-2021</td>\n",
              "      <td>14:30:42</td>\n",
              "    </tr>\n",
              "    <tr>\n",
              "      <th>2522</th>\n",
              "      <td>8538061</td>\n",
              "      <td>8e03fd2d-3940-4ffa-b7e9-c4dff319b83d</td>\n",
              "      <td>Diya</td>\n",
              "      <td>Completed</td>\n",
              "      <td>05-02-2021 15:07:14</td>\n",
              "      <td>05-02-2021 15:23:38</td>\n",
              "      <td>05-02-2021 15:08:30</td>\n",
              "      <td>0:00:00</td>\n",
              "      <td>0:00:11</td>\n",
              "      <td>0</td>\n",
              "      <td>05-02-2021</td>\n",
              "      <td>15:07:14</td>\n",
              "    </tr>\n",
              "    <tr>\n",
              "      <th>2602</th>\n",
              "      <td>8539311</td>\n",
              "      <td>d991e14c-4f9b-4c31-afbe-6a89a4b2a976</td>\n",
              "      <td>Diya</td>\n",
              "      <td>Unresponsive Customer</td>\n",
              "      <td>05-02-2021 17:42:30</td>\n",
              "      <td>05-02-2021 18:00:40</td>\n",
              "      <td>05-02-2021 17:43:03</td>\n",
              "      <td>0:00:00</td>\n",
              "      <td>0:00:18</td>\n",
              "      <td>0</td>\n",
              "      <td>05-02-2021</td>\n",
              "      <td>17:42:30</td>\n",
              "    </tr>\n",
              "  </tbody>\n",
              "</table>\n",
              "</div>"
            ],
            "text/plain": [
              "      RoomCode                                UserId  ...        date start_time\n",
              "762    8544423  e8f360a1-92b2-424d-ab98-cfbcaeb9cbe4  ...  06-02-2021   13:56:45\n",
              "1164   8524583  36b7054c-cedc-4235-8d47-cb3193538e57  ...  03-02-2021   18:30:29\n",
              "1247   8521062  3764ed74-621a-4fac-a45e-f4ec703f526b  ...  03-02-2021   11:58:29\n",
              "1260   8521910  733c0188-30a4-4e62-a5f8-bed500bd8b4f  ...  03-02-2021   13:25:53\n",
              "1306   8520294  9cd4b875-de8a-430b-9d7b-ffa43f2b7171  ...  03-02-2021   10:37:29\n",
              "1402   8522025  6aa86238-e05c-45a3-8469-c98fba590658  ...  03-02-2021   13:37:33\n",
              "1470   8520355  64e6cdef-8462-4284-9147-f18b27ecc317  ...  03-02-2021   10:43:09\n",
              "1473   8520882  787badf4-bd9d-4fa7-a8b0-2a520d9278d0  ...  03-02-2021   11:41:10\n",
              "1480   8524275  7d306104-bced-4e99-95c5-e80f940ae794  ...  03-02-2021   17:49:02\n",
              "1553   8507537  ed036802-8048-44c1-b845-e9ece77b9742  ...  01-02-2021   14:10:40\n",
              "1616   8506224  ee1788c6-4251-4564-9520-a20af5d7d96c  ...  01-02-2021   11:54:14\n",
              "1642   8507820  25e90bd7-57ca-4e7c-aa1d-5ae4c3dd2c4d  ...  01-02-2021   14:44:11\n",
              "1853   8508248  ee7b7921-da46-4a56-b69e-e2b97301adf0  ...  01-02-2021   15:28:58\n",
              "1999   8515708  dd1cc289-cc20-4fee-9250-31b48aefc1c3  ...  02-02-2021   15:30:06\n",
              "2035   8513414  d6d6d83b-3950-47b3-82ad-0bf164a5ff8d  ...  02-02-2021   11:10:06\n",
              "2262   8514777  aa993239-e5d4-4a21-9d15-1570707ca893  ...  02-02-2021   13:38:47\n",
              "2366   8537830  91f26664-6659-429e-ada1-1f25f18da7d4  ...  05-02-2021   14:38:01\n",
              "2395   8535661  d62135d5-2dd0-40de-90a1-2f304cbb24a1  ...  05-02-2021   10:21:25\n",
              "2407   8537774  229870df-fd2f-4b3d-a5e4-c943281d3ce6  ...  05-02-2021   14:30:42\n",
              "2522   8538061  8e03fd2d-3940-4ffa-b7e9-c4dff319b83d  ...  05-02-2021   15:07:14\n",
              "2602   8539311  d991e14c-4f9b-4c31-afbe-6a89a4b2a976  ...  05-02-2021   17:42:30\n",
              "\n",
              "[21 rows x 12 columns]"
            ]
          },
          "metadata": {},
          "execution_count": 18
        }
      ]
    },
    {
      "cell_type": "code",
      "metadata": {
        "colab": {
          "base_uri": "https://localhost:8080/"
        },
        "id": "kQ-F5G9WudhK",
        "outputId": "ae834525-fc76-4036-8f89-2dc4e77834f9"
      },
      "source": [
        "# 1. Chats resolved by agents\n",
        "def chat_resv(ag_name):\n",
        "  res_ag = len(agent(ag_name)[agent(ag_name)['ClosingComment'] == 'Completed'])\n",
        "  print(res_ag)\n",
        "\n",
        "chat_resv('Diya')"
      ],
      "execution_count": null,
      "outputs": [
        {
          "output_type": "stream",
          "name": "stdout",
          "text": [
            "15\n"
          ]
        }
      ]
    },
    {
      "cell_type": "code",
      "metadata": {
        "id": "qlAfNYL3lzsA",
        "colab": {
          "base_uri": "https://localhost:8080/"
        },
        "outputId": "d7a90e73-6fec-4ccd-9c90-f63ec144a0cf"
      },
      "source": [
        "# 2. agent first response time\n",
        "\n",
        "def resp_time(ag_name):\n",
        "  res_time = pd.DataFrame()\n",
        "  res_time[['hh','mm','ss']] = agent(ag_name)['AgentFirstResponseTime'].str.split(':',n=2, expand=True)\n",
        "  res_time['ss'] = pd.to_numeric(res_time['ss'])\n",
        "  res_time['mm'] = pd.to_numeric(res_time['mm'])\n",
        "  res_time['hh'] = pd.to_numeric(res_time['hh'])\n",
        "  ss1 = res_time['ss'].sum()\n",
        "  ss2 = res_time['mm'].sum()*60            #converting minutes to seconds\n",
        "  ss3 = res_time['hh'].sum()*3600          #converting hrs to second\n",
        "\n",
        "  total_ss = ss1 + ss2 + ss3\n",
        "  by_sum = res_time.ss.value_counts().sum()\n",
        "  avg_ss = total_ss/by_sum\n",
        "  return(avg_ss)\n",
        "\n",
        "resp_time('Diya')  "
      ],
      "execution_count": null,
      "outputs": [
        {
          "output_type": "execute_result",
          "data": {
            "text/plain": [
              "8.904761904761905"
            ]
          },
          "metadata": {},
          "execution_count": 20
        }
      ]
    },
    {
      "cell_type": "code",
      "metadata": {
        "colab": {
          "base_uri": "https://localhost:8080/"
        },
        "id": "nAN5SkDyJId6",
        "outputId": "44f26b7c-db70-4f12-9d59-55c20777474d"
      },
      "source": [
        "# 3. chat resolution time\n",
        "def resol_time(ag_name):\n",
        "  res_time = pd.DataFrame()\n",
        "  res_time['Time_Diff'] = pd.to_datetime(agent(ag_name).ChatEndTime) - pd.to_datetime(agent(ag_name).ChatStartTime)\n",
        "  res_time = res_time['Time_Diff'].sum()\n",
        "  by_time = agent(ag_name).value_counts().sum()\n",
        "  avg_time = res_time/by_time\n",
        "  return(avg_time)\n",
        "\n",
        "resol_time('Diya') "
      ],
      "execution_count": null,
      "outputs": [
        {
          "output_type": "execute_result",
          "data": {
            "text/plain": [
              "Timedelta('0 days 00:14:09.857142857')"
            ]
          },
          "metadata": {},
          "execution_count": 21
        }
      ]
    },
    {
      "cell_type": "code",
      "metadata": {
        "colab": {
          "base_uri": "https://localhost:8080/"
        },
        "id": "onXzw9zgZwjo",
        "outputId": "5142aca0-4014-4520-914b-3769e81c1a02"
      },
      "source": [
        "# 4. Avg CSAT score\n",
        "# Note : Here I multiplied avg_csat by 100 as values like 0.034 is getting displayed as 0 on the excel .\n",
        "def csat(ag_name):\n",
        "  score5 = len(agent(ag_name)[agent(ag_name)['CsatScore'] == 5])\n",
        "  score4 = len(agent(ag_name)[agent(ag_name)['CsatScore'] == 4])\n",
        "  max_score = score4 + score5\n",
        "  score1 = len(agent(ag_name)[agent(ag_name)['CsatScore'] == 1])\n",
        "  score2 = len(agent(ag_name)[agent(ag_name)['CsatScore'] == 2])\n",
        "  score3 = len(agent(ag_name)[agent(ag_name)['CsatScore'] == 3])\n",
        "  min_score = score1 + score2 + score3\n",
        "  overall_csat = max_score/(max_score + min_score)\n",
        "  by_score = len(agent(ag_name)[agent(ag_name)['CsatScore'] != 0])\n",
        "  avg_csat = (overall_csat / by_score)*100\n",
        "  return(avg_csat)\n",
        "\n",
        "csat('Adaa')"
      ],
      "execution_count": null,
      "outputs": [
        {
          "output_type": "execute_result",
          "data": {
            "text/plain": [
              "4.938271604938271"
            ]
          },
          "metadata": {},
          "execution_count": 22
        }
      ]
    },
    {
      "cell_type": "code",
      "metadata": {
        "id": "bZHnXMgKuCNx",
        "colab": {
          "base_uri": "https://localhost:8080/",
          "height": 1000
        },
        "outputId": "13f3c7fa-eefd-4ac6-dc19-f34a08983010"
      },
      "source": [
        " # To create dataframe having working hrs\n",
        "\n",
        " def csat_hrs(ag_name):\n",
        "  time_df = pd.DataFrame()\n",
        "  time_df[['assn_date', 'assn_time']] =  agent(ag_name)['AgentAssignmentTimestamp'].str.split(' ',n=1, expand=True)\n",
        "  merge_df = pd.merge(agent(ag_name), time_df, left_index=True, right_index=True)\n",
        "  time_df.index = pd.to_datetime(time_df.assn_time)\n",
        "  work_hrs = pd.DataFrame(time_df['assn_time'].between_time('10:00:00', '17:00:00'))\n",
        "  work_hrs.reset_index(drop=True, inplace=True)\n",
        "  wrk_csat = pd.merge(merge_df, work_hrs, on = 'assn_time' )\n",
        "  return(wrk_csat)\n",
        "\n",
        " csat_hrs('Diya')     "
      ],
      "execution_count": null,
      "outputs": [
        {
          "output_type": "execute_result",
          "data": {
            "text/html": [
              "<div>\n",
              "<style scoped>\n",
              "    .dataframe tbody tr th:only-of-type {\n",
              "        vertical-align: middle;\n",
              "    }\n",
              "\n",
              "    .dataframe tbody tr th {\n",
              "        vertical-align: top;\n",
              "    }\n",
              "\n",
              "    .dataframe thead th {\n",
              "        text-align: right;\n",
              "    }\n",
              "</style>\n",
              "<table border=\"1\" class=\"dataframe\">\n",
              "  <thead>\n",
              "    <tr style=\"text-align: right;\">\n",
              "      <th></th>\n",
              "      <th>RoomCode</th>\n",
              "      <th>UserId</th>\n",
              "      <th>ClosedBy</th>\n",
              "      <th>ClosingComment</th>\n",
              "      <th>ChatStartTime</th>\n",
              "      <th>ChatEndTime</th>\n",
              "      <th>AgentAssignmentTimestamp</th>\n",
              "      <th>BotFirstResponseTime</th>\n",
              "      <th>AgentFirstResponseTime</th>\n",
              "      <th>CsatScore</th>\n",
              "      <th>date</th>\n",
              "      <th>start_time</th>\n",
              "      <th>assn_date</th>\n",
              "      <th>assn_time</th>\n",
              "    </tr>\n",
              "  </thead>\n",
              "  <tbody>\n",
              "    <tr>\n",
              "      <th>0</th>\n",
              "      <td>8544423</td>\n",
              "      <td>e8f360a1-92b2-424d-ab98-cfbcaeb9cbe4</td>\n",
              "      <td>Diya</td>\n",
              "      <td>Completed</td>\n",
              "      <td>06-02-2021 13:56:45</td>\n",
              "      <td>06-02-2021 14:15:47</td>\n",
              "      <td>06-02-2021 13:59:23</td>\n",
              "      <td>0:00:00</td>\n",
              "      <td>0:00:08</td>\n",
              "      <td>0</td>\n",
              "      <td>06-02-2021</td>\n",
              "      <td>13:56:45</td>\n",
              "      <td>06-02-2021</td>\n",
              "      <td>13:59:23</td>\n",
              "    </tr>\n",
              "    <tr>\n",
              "      <th>1</th>\n",
              "      <td>8521062</td>\n",
              "      <td>3764ed74-621a-4fac-a45e-f4ec703f526b</td>\n",
              "      <td>Diya</td>\n",
              "      <td>Completed</td>\n",
              "      <td>03-02-2021 11:58:29</td>\n",
              "      <td>03-02-2021 12:03:32</td>\n",
              "      <td>03-02-2021 11:59:11</td>\n",
              "      <td>0:00:00</td>\n",
              "      <td>0:00:06</td>\n",
              "      <td>4</td>\n",
              "      <td>03-02-2021</td>\n",
              "      <td>11:58:29</td>\n",
              "      <td>03-02-2021</td>\n",
              "      <td>11:59:11</td>\n",
              "    </tr>\n",
              "    <tr>\n",
              "      <th>2</th>\n",
              "      <td>8521910</td>\n",
              "      <td>733c0188-30a4-4e62-a5f8-bed500bd8b4f</td>\n",
              "      <td>Diya</td>\n",
              "      <td>Completed</td>\n",
              "      <td>03-02-2021 13:25:53</td>\n",
              "      <td>03-02-2021 13:30:38</td>\n",
              "      <td>03-02-2021 13:26:39</td>\n",
              "      <td>0:00:00</td>\n",
              "      <td>0:00:10</td>\n",
              "      <td>0</td>\n",
              "      <td>03-02-2021</td>\n",
              "      <td>13:25:53</td>\n",
              "      <td>03-02-2021</td>\n",
              "      <td>13:26:39</td>\n",
              "    </tr>\n",
              "    <tr>\n",
              "      <th>3</th>\n",
              "      <td>8520294</td>\n",
              "      <td>9cd4b875-de8a-430b-9d7b-ffa43f2b7171</td>\n",
              "      <td>Diya</td>\n",
              "      <td>Completed</td>\n",
              "      <td>03-02-2021 10:37:29</td>\n",
              "      <td>03-02-2021 10:45:25</td>\n",
              "      <td>03-02-2021 10:38:05</td>\n",
              "      <td>0:00:00</td>\n",
              "      <td>0:00:12</td>\n",
              "      <td>0</td>\n",
              "      <td>03-02-2021</td>\n",
              "      <td>10:37:29</td>\n",
              "      <td>03-02-2021</td>\n",
              "      <td>10:38:05</td>\n",
              "    </tr>\n",
              "    <tr>\n",
              "      <th>4</th>\n",
              "      <td>8522025</td>\n",
              "      <td>6aa86238-e05c-45a3-8469-c98fba590658</td>\n",
              "      <td>Diya</td>\n",
              "      <td>Completed</td>\n",
              "      <td>03-02-2021 13:37:33</td>\n",
              "      <td>03-02-2021 13:47:26</td>\n",
              "      <td>03-02-2021 13:38:10</td>\n",
              "      <td>0:00:00</td>\n",
              "      <td>0:00:11</td>\n",
              "      <td>0</td>\n",
              "      <td>03-02-2021</td>\n",
              "      <td>13:37:33</td>\n",
              "      <td>03-02-2021</td>\n",
              "      <td>13:38:10</td>\n",
              "    </tr>\n",
              "    <tr>\n",
              "      <th>5</th>\n",
              "      <td>8520355</td>\n",
              "      <td>64e6cdef-8462-4284-9147-f18b27ecc317</td>\n",
              "      <td>Diya</td>\n",
              "      <td>Completed</td>\n",
              "      <td>03-02-2021 10:43:09</td>\n",
              "      <td>03-02-2021 10:57:04</td>\n",
              "      <td>03-02-2021 10:43:49</td>\n",
              "      <td>0:00:00</td>\n",
              "      <td>0:00:07</td>\n",
              "      <td>0</td>\n",
              "      <td>03-02-2021</td>\n",
              "      <td>10:43:09</td>\n",
              "      <td>03-02-2021</td>\n",
              "      <td>10:43:49</td>\n",
              "    </tr>\n",
              "    <tr>\n",
              "      <th>6</th>\n",
              "      <td>8520882</td>\n",
              "      <td>787badf4-bd9d-4fa7-a8b0-2a520d9278d0</td>\n",
              "      <td>Diya</td>\n",
              "      <td>Unresponsive Customer</td>\n",
              "      <td>03-02-2021 11:41:10</td>\n",
              "      <td>03-02-2021 11:48:00</td>\n",
              "      <td>03-02-2021 11:41:38</td>\n",
              "      <td>0:00:00</td>\n",
              "      <td>0:00:04</td>\n",
              "      <td>3</td>\n",
              "      <td>03-02-2021</td>\n",
              "      <td>11:41:10</td>\n",
              "      <td>03-02-2021</td>\n",
              "      <td>11:41:38</td>\n",
              "    </tr>\n",
              "    <tr>\n",
              "      <th>7</th>\n",
              "      <td>8507537</td>\n",
              "      <td>ed036802-8048-44c1-b845-e9ece77b9742</td>\n",
              "      <td>Diya</td>\n",
              "      <td>Completed</td>\n",
              "      <td>01-02-2021 14:10:40</td>\n",
              "      <td>01-02-2021 14:28:33</td>\n",
              "      <td>01-02-2021 14:13:50</td>\n",
              "      <td>0:00:01</td>\n",
              "      <td>0:00:11</td>\n",
              "      <td>0</td>\n",
              "      <td>01-02-2021</td>\n",
              "      <td>14:10:40</td>\n",
              "      <td>01-02-2021</td>\n",
              "      <td>14:13:50</td>\n",
              "    </tr>\n",
              "    <tr>\n",
              "      <th>8</th>\n",
              "      <td>8506224</td>\n",
              "      <td>ee1788c6-4251-4564-9520-a20af5d7d96c</td>\n",
              "      <td>Diya</td>\n",
              "      <td>Completed</td>\n",
              "      <td>01-02-2021 11:54:14</td>\n",
              "      <td>01-02-2021 12:12:27</td>\n",
              "      <td>01-02-2021 11:55:22</td>\n",
              "      <td>0:00:06</td>\n",
              "      <td>0:00:09</td>\n",
              "      <td>4</td>\n",
              "      <td>01-02-2021</td>\n",
              "      <td>11:54:14</td>\n",
              "      <td>01-02-2021</td>\n",
              "      <td>11:55:22</td>\n",
              "    </tr>\n",
              "    <tr>\n",
              "      <th>9</th>\n",
              "      <td>8507820</td>\n",
              "      <td>25e90bd7-57ca-4e7c-aa1d-5ae4c3dd2c4d</td>\n",
              "      <td>Diya</td>\n",
              "      <td>Unresponsive Customer</td>\n",
              "      <td>01-02-2021 14:44:11</td>\n",
              "      <td>01-02-2021 15:08:58</td>\n",
              "      <td>01-02-2021 14:46:25</td>\n",
              "      <td>0:00:00</td>\n",
              "      <td>0:00:05</td>\n",
              "      <td>5</td>\n",
              "      <td>01-02-2021</td>\n",
              "      <td>14:44:11</td>\n",
              "      <td>01-02-2021</td>\n",
              "      <td>14:46:25</td>\n",
              "    </tr>\n",
              "    <tr>\n",
              "      <th>10</th>\n",
              "      <td>8508248</td>\n",
              "      <td>ee7b7921-da46-4a56-b69e-e2b97301adf0</td>\n",
              "      <td>Diya</td>\n",
              "      <td>Completed</td>\n",
              "      <td>01-02-2021 15:28:58</td>\n",
              "      <td>01-02-2021 15:44:18</td>\n",
              "      <td>01-02-2021 15:29:46</td>\n",
              "      <td>0:00:00</td>\n",
              "      <td>0:00:06</td>\n",
              "      <td>0</td>\n",
              "      <td>01-02-2021</td>\n",
              "      <td>15:28:58</td>\n",
              "      <td>01-02-2021</td>\n",
              "      <td>15:29:46</td>\n",
              "    </tr>\n",
              "    <tr>\n",
              "      <th>11</th>\n",
              "      <td>8515708</td>\n",
              "      <td>dd1cc289-cc20-4fee-9250-31b48aefc1c3</td>\n",
              "      <td>Diya</td>\n",
              "      <td>Completed</td>\n",
              "      <td>02-02-2021 15:30:06</td>\n",
              "      <td>02-02-2021 15:44:05</td>\n",
              "      <td>02-02-2021 15:31:41</td>\n",
              "      <td>0:00:00</td>\n",
              "      <td>0:00:11</td>\n",
              "      <td>0</td>\n",
              "      <td>02-02-2021</td>\n",
              "      <td>15:30:06</td>\n",
              "      <td>02-02-2021</td>\n",
              "      <td>15:31:41</td>\n",
              "    </tr>\n",
              "    <tr>\n",
              "      <th>12</th>\n",
              "      <td>8513414</td>\n",
              "      <td>d6d6d83b-3950-47b3-82ad-0bf164a5ff8d</td>\n",
              "      <td>Diya</td>\n",
              "      <td>Unresponsive Customer</td>\n",
              "      <td>02-02-2021 11:10:06</td>\n",
              "      <td>02-02-2021 11:37:47</td>\n",
              "      <td>02-02-2021 11:29:56</td>\n",
              "      <td>0:00:00</td>\n",
              "      <td>0:00:09</td>\n",
              "      <td>4</td>\n",
              "      <td>02-02-2021</td>\n",
              "      <td>11:10:06</td>\n",
              "      <td>02-02-2021</td>\n",
              "      <td>11:29:56</td>\n",
              "    </tr>\n",
              "    <tr>\n",
              "      <th>13</th>\n",
              "      <td>8514777</td>\n",
              "      <td>aa993239-e5d4-4a21-9d15-1570707ca893</td>\n",
              "      <td>Diya</td>\n",
              "      <td>Unresponsive Customer</td>\n",
              "      <td>02-02-2021 13:38:47</td>\n",
              "      <td>02-02-2021 13:56:58</td>\n",
              "      <td>02-02-2021 13:39:24</td>\n",
              "      <td>0:00:00</td>\n",
              "      <td>0:00:08</td>\n",
              "      <td>4</td>\n",
              "      <td>02-02-2021</td>\n",
              "      <td>13:38:47</td>\n",
              "      <td>02-02-2021</td>\n",
              "      <td>13:39:24</td>\n",
              "    </tr>\n",
              "    <tr>\n",
              "      <th>14</th>\n",
              "      <td>8537830</td>\n",
              "      <td>91f26664-6659-429e-ada1-1f25f18da7d4</td>\n",
              "      <td>Diya</td>\n",
              "      <td>Unresponsive Customer</td>\n",
              "      <td>05-02-2021 14:38:01</td>\n",
              "      <td>05-02-2021 14:46:14</td>\n",
              "      <td>05-02-2021 14:38:48</td>\n",
              "      <td>0:00:00</td>\n",
              "      <td>0:00:07</td>\n",
              "      <td>0</td>\n",
              "      <td>05-02-2021</td>\n",
              "      <td>14:38:01</td>\n",
              "      <td>05-02-2021</td>\n",
              "      <td>14:38:48</td>\n",
              "    </tr>\n",
              "    <tr>\n",
              "      <th>15</th>\n",
              "      <td>8535661</td>\n",
              "      <td>d62135d5-2dd0-40de-90a1-2f304cbb24a1</td>\n",
              "      <td>Diya</td>\n",
              "      <td>Completed</td>\n",
              "      <td>05-02-2021 10:21:25</td>\n",
              "      <td>05-02-2021 10:29:53</td>\n",
              "      <td>05-02-2021 10:21:56</td>\n",
              "      <td>0:00:00</td>\n",
              "      <td>0:00:11</td>\n",
              "      <td>5</td>\n",
              "      <td>05-02-2021</td>\n",
              "      <td>10:21:25</td>\n",
              "      <td>05-02-2021</td>\n",
              "      <td>10:21:56</td>\n",
              "    </tr>\n",
              "    <tr>\n",
              "      <th>16</th>\n",
              "      <td>8537774</td>\n",
              "      <td>229870df-fd2f-4b3d-a5e4-c943281d3ce6</td>\n",
              "      <td>Diya</td>\n",
              "      <td>Completed</td>\n",
              "      <td>05-02-2021 14:30:42</td>\n",
              "      <td>05-02-2021 14:42:03</td>\n",
              "      <td>05-02-2021 14:31:41</td>\n",
              "      <td>0:00:00</td>\n",
              "      <td>0:00:09</td>\n",
              "      <td>0</td>\n",
              "      <td>05-02-2021</td>\n",
              "      <td>14:30:42</td>\n",
              "      <td>05-02-2021</td>\n",
              "      <td>14:31:41</td>\n",
              "    </tr>\n",
              "    <tr>\n",
              "      <th>17</th>\n",
              "      <td>8538061</td>\n",
              "      <td>8e03fd2d-3940-4ffa-b7e9-c4dff319b83d</td>\n",
              "      <td>Diya</td>\n",
              "      <td>Completed</td>\n",
              "      <td>05-02-2021 15:07:14</td>\n",
              "      <td>05-02-2021 15:23:38</td>\n",
              "      <td>05-02-2021 15:08:30</td>\n",
              "      <td>0:00:00</td>\n",
              "      <td>0:00:11</td>\n",
              "      <td>0</td>\n",
              "      <td>05-02-2021</td>\n",
              "      <td>15:07:14</td>\n",
              "      <td>05-02-2021</td>\n",
              "      <td>15:08:30</td>\n",
              "    </tr>\n",
              "  </tbody>\n",
              "</table>\n",
              "</div>"
            ],
            "text/plain": [
              "    RoomCode                                UserId  ...   assn_date assn_time\n",
              "0    8544423  e8f360a1-92b2-424d-ab98-cfbcaeb9cbe4  ...  06-02-2021  13:59:23\n",
              "1    8521062  3764ed74-621a-4fac-a45e-f4ec703f526b  ...  03-02-2021  11:59:11\n",
              "2    8521910  733c0188-30a4-4e62-a5f8-bed500bd8b4f  ...  03-02-2021  13:26:39\n",
              "3    8520294  9cd4b875-de8a-430b-9d7b-ffa43f2b7171  ...  03-02-2021  10:38:05\n",
              "4    8522025  6aa86238-e05c-45a3-8469-c98fba590658  ...  03-02-2021  13:38:10\n",
              "5    8520355  64e6cdef-8462-4284-9147-f18b27ecc317  ...  03-02-2021  10:43:49\n",
              "6    8520882  787badf4-bd9d-4fa7-a8b0-2a520d9278d0  ...  03-02-2021  11:41:38\n",
              "7    8507537  ed036802-8048-44c1-b845-e9ece77b9742  ...  01-02-2021  14:13:50\n",
              "8    8506224  ee1788c6-4251-4564-9520-a20af5d7d96c  ...  01-02-2021  11:55:22\n",
              "9    8507820  25e90bd7-57ca-4e7c-aa1d-5ae4c3dd2c4d  ...  01-02-2021  14:46:25\n",
              "10   8508248  ee7b7921-da46-4a56-b69e-e2b97301adf0  ...  01-02-2021  15:29:46\n",
              "11   8515708  dd1cc289-cc20-4fee-9250-31b48aefc1c3  ...  02-02-2021  15:31:41\n",
              "12   8513414  d6d6d83b-3950-47b3-82ad-0bf164a5ff8d  ...  02-02-2021  11:29:56\n",
              "13   8514777  aa993239-e5d4-4a21-9d15-1570707ca893  ...  02-02-2021  13:39:24\n",
              "14   8537830  91f26664-6659-429e-ada1-1f25f18da7d4  ...  05-02-2021  14:38:48\n",
              "15   8535661  d62135d5-2dd0-40de-90a1-2f304cbb24a1  ...  05-02-2021  10:21:56\n",
              "16   8537774  229870df-fd2f-4b3d-a5e4-c943281d3ce6  ...  05-02-2021  14:31:41\n",
              "17   8538061  8e03fd2d-3940-4ffa-b7e9-c4dff319b83d  ...  05-02-2021  15:08:30\n",
              "\n",
              "[18 rows x 14 columns]"
            ]
          },
          "metadata": {},
          "execution_count": 23
        }
      ]
    },
    {
      "cell_type": "code",
      "metadata": {
        "id": "mC9ixdpzEdoB",
        "colab": {
          "base_uri": "https://localhost:8080/"
        },
        "outputId": "6e87c3bc-559b-4f74-951c-d684f89bbe15"
      },
      "source": [
        "# 5. Calculating avg score at working hrs\n",
        "\n",
        "def csat_work_score(ag_name):\n",
        "  score5 = len(csat_hrs(ag_name)[csat_hrs(ag_name)['CsatScore'] == 5])\n",
        "  score4 = len(csat_hrs(ag_name)[csat_hrs(ag_name)['CsatScore'] == 4])\n",
        "  max_score = score4 + score5\n",
        "  score1 = len(csat_hrs(ag_name)[csat_hrs(ag_name)['CsatScore'] == 1])\n",
        "  score2 = len(csat_hrs(ag_name)[csat_hrs(ag_name)['CsatScore'] == 2])\n",
        "  score3 = len(csat_hrs(ag_name)[csat_hrs(ag_name)['CsatScore'] == 3])\n",
        "  min_score = score1 + score2 + score3\n",
        "  overall_csat = max_score/(max_score + min_score)\n",
        "  by_score = len(csat_hrs(ag_name)[csat_hrs(ag_name)['CsatScore'] != 0])\n",
        "  avg_csat = (overall_csat / by_score)*100\n",
        "  return(avg_csat)\n",
        "\n",
        "csat_work_score('Diya')"
      ],
      "execution_count": null,
      "outputs": [
        {
          "output_type": "execute_result",
          "data": {
            "text/plain": [
              "12.244897959183673"
            ]
          },
          "metadata": {},
          "execution_count": 24
        }
      ]
    },
    {
      "cell_type": "code",
      "metadata": {
        "colab": {
          "base_uri": "https://localhost:8080/",
          "height": 319
        },
        "id": "HqNMGPmhgsSC",
        "outputId": "e4f3cb5a-fb0f-4090-ee0f-fd5d511a696d"
      },
      "source": [
        "# Dataframe of non - working hrs\n",
        "\n",
        "def csat_non_hrs(ag_name):\n",
        "  time_df = pd.DataFrame()\n",
        "  time_df[['assn_date', 'assn_time']] =  agent(ag_name)['AgentAssignmentTimestamp'].str.split(' ',n=1, expand=True)\n",
        "  merge_df = pd.merge(agent(ag_name), time_df, left_index=True, right_index=True)\n",
        "  time_df.index = pd.to_datetime(time_df.assn_time)\n",
        "  work_hrs = pd.DataFrame(time_df['assn_time'].between_time('17:00:00', '10:00:00'))\n",
        "  work_hrs.reset_index(drop=True, inplace=True)\n",
        "  wrk_csat = pd.merge(merge_df, work_hrs, on = 'assn_time' )\n",
        "  return(wrk_csat)\n",
        "\n",
        "csat_non_hrs('Diya') "
      ],
      "execution_count": null,
      "outputs": [
        {
          "output_type": "execute_result",
          "data": {
            "text/html": [
              "<div>\n",
              "<style scoped>\n",
              "    .dataframe tbody tr th:only-of-type {\n",
              "        vertical-align: middle;\n",
              "    }\n",
              "\n",
              "    .dataframe tbody tr th {\n",
              "        vertical-align: top;\n",
              "    }\n",
              "\n",
              "    .dataframe thead th {\n",
              "        text-align: right;\n",
              "    }\n",
              "</style>\n",
              "<table border=\"1\" class=\"dataframe\">\n",
              "  <thead>\n",
              "    <tr style=\"text-align: right;\">\n",
              "      <th></th>\n",
              "      <th>RoomCode</th>\n",
              "      <th>UserId</th>\n",
              "      <th>ClosedBy</th>\n",
              "      <th>ClosingComment</th>\n",
              "      <th>ChatStartTime</th>\n",
              "      <th>ChatEndTime</th>\n",
              "      <th>AgentAssignmentTimestamp</th>\n",
              "      <th>BotFirstResponseTime</th>\n",
              "      <th>AgentFirstResponseTime</th>\n",
              "      <th>CsatScore</th>\n",
              "      <th>date</th>\n",
              "      <th>start_time</th>\n",
              "      <th>assn_date</th>\n",
              "      <th>assn_time</th>\n",
              "    </tr>\n",
              "  </thead>\n",
              "  <tbody>\n",
              "    <tr>\n",
              "      <th>0</th>\n",
              "      <td>8524583</td>\n",
              "      <td>36b7054c-cedc-4235-8d47-cb3193538e57</td>\n",
              "      <td>Diya</td>\n",
              "      <td>Completed</td>\n",
              "      <td>03-02-2021 18:30:29</td>\n",
              "      <td>03-02-2021 18:49:14</td>\n",
              "      <td>03-02-2021 18:31:33</td>\n",
              "      <td>0:00:00</td>\n",
              "      <td>0:00:06</td>\n",
              "      <td>5</td>\n",
              "      <td>03-02-2021</td>\n",
              "      <td>18:30:29</td>\n",
              "      <td>03-02-2021</td>\n",
              "      <td>18:31:33</td>\n",
              "    </tr>\n",
              "    <tr>\n",
              "      <th>1</th>\n",
              "      <td>8524275</td>\n",
              "      <td>7d306104-bced-4e99-95c5-e80f940ae794</td>\n",
              "      <td>Diya</td>\n",
              "      <td>Completed</td>\n",
              "      <td>03-02-2021 17:49:02</td>\n",
              "      <td>03-02-2021 18:01:40</td>\n",
              "      <td>03-02-2021 17:49:55</td>\n",
              "      <td>0:00:00</td>\n",
              "      <td>0:00:08</td>\n",
              "      <td>5</td>\n",
              "      <td>03-02-2021</td>\n",
              "      <td>17:49:02</td>\n",
              "      <td>03-02-2021</td>\n",
              "      <td>17:49:55</td>\n",
              "    </tr>\n",
              "    <tr>\n",
              "      <th>2</th>\n",
              "      <td>8539311</td>\n",
              "      <td>d991e14c-4f9b-4c31-afbe-6a89a4b2a976</td>\n",
              "      <td>Diya</td>\n",
              "      <td>Unresponsive Customer</td>\n",
              "      <td>05-02-2021 17:42:30</td>\n",
              "      <td>05-02-2021 18:00:40</td>\n",
              "      <td>05-02-2021 17:43:03</td>\n",
              "      <td>0:00:00</td>\n",
              "      <td>0:00:18</td>\n",
              "      <td>0</td>\n",
              "      <td>05-02-2021</td>\n",
              "      <td>17:42:30</td>\n",
              "      <td>05-02-2021</td>\n",
              "      <td>17:43:03</td>\n",
              "    </tr>\n",
              "  </tbody>\n",
              "</table>\n",
              "</div>"
            ],
            "text/plain": [
              "   RoomCode                                UserId  ...   assn_date assn_time\n",
              "0   8524583  36b7054c-cedc-4235-8d47-cb3193538e57  ...  03-02-2021  18:31:33\n",
              "1   8524275  7d306104-bced-4e99-95c5-e80f940ae794  ...  03-02-2021  17:49:55\n",
              "2   8539311  d991e14c-4f9b-4c31-afbe-6a89a4b2a976  ...  05-02-2021  17:43:03\n",
              "\n",
              "[3 rows x 14 columns]"
            ]
          },
          "metadata": {},
          "execution_count": 25
        }
      ]
    },
    {
      "cell_type": "code",
      "metadata": {
        "colab": {
          "base_uri": "https://localhost:8080/"
        },
        "id": "hY55bU8whoMk",
        "outputId": "a2699065-3d4c-40c4-b96a-1f0797fb96c6"
      },
      "source": [
        "# 6.Calculating avg score at non-working hrs\n",
        "\n",
        "def csat_non_score(ag_name):\n",
        "  score5 = len(csat_non_hrs(ag_name)[csat_non_hrs(ag_name)['CsatScore'] == 5])\n",
        "  score4 = len(csat_non_hrs(ag_name)[csat_non_hrs(ag_name)['CsatScore'] == 4])\n",
        "  max_score = score4 + score5\n",
        "  score1 = len(csat_non_hrs(ag_name)[csat_non_hrs(ag_name)['CsatScore'] == 1])\n",
        "  score2 = len(csat_non_hrs(ag_name)[csat_non_hrs(ag_name)['CsatScore'] == 2])\n",
        "  score3 = len(csat_non_hrs(ag_name)[csat_non_hrs(ag_name)['CsatScore'] == 3])\n",
        "  min_score = score1 + score2 + score3\n",
        "  overall_csat = max_score/(max_score + min_score)\n",
        "  by_score = len(csat_non_hrs(ag_name)[csat_non_hrs(ag_name)['CsatScore'] != 0])\n",
        "  avg_csat = (overall_csat / by_score)*100\n",
        "  return(avg_csat)\n",
        "\n",
        "csat_non_score('Diya')"
      ],
      "execution_count": null,
      "outputs": [
        {
          "output_type": "execute_result",
          "data": {
            "text/plain": [
              "50.0"
            ]
          },
          "metadata": {},
          "execution_count": 26
        }
      ]
    }
  ]
}